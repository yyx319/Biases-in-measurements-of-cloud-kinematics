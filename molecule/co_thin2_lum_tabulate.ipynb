{
 "cells": [
  {
   "cell_type": "code",
   "execution_count": 1,
   "metadata": {},
   "outputs": [],
   "source": [
    "%matplotlib inline"
   ]
  },
  {
   "cell_type": "code",
   "execution_count": 2,
   "metadata": {},
   "outputs": [],
   "source": [
    "import sys\n",
    "sys.path.append('/Users/yuxuan/Documents/Research_module')"
   ]
  },
  {
   "cell_type": "code",
   "execution_count": 3,
   "metadata": {},
   "outputs": [],
   "source": [
    "import numpy as np\n",
    "import matplotlib.pyplot as plt\n",
    "import os\n",
    "from despotic import cloud"
   ]
  },
  {
   "cell_type": "code",
   "execution_count": 4,
   "metadata": {},
   "outputs": [],
   "source": [
    "# Start with a Milky Way GMC; set dust temperature to 10 K\n",
    "#gmc = cloud(os.path.join(os.environ['DESPOTIC_HOME'],\n",
    "#                         'cloudfiles/MilkyWayGMC.desp'))\n",
    "gmc = cloud(os.path.join('/Users/yuxuan/Documents/Research_module/despotic_full/despotic/cloudfiles/MilkyWayGMC.desp'))\n",
    "gmc.Td = 10.0\n",
    "gmc.rad.TradDust = 10.0"
   ]
  },
  {
   "cell_type": "code",
   "execution_count": 5,
   "metadata": {},
   "outputs": [],
   "source": [
    "# Parameters for variable temperature case\n",
    "gmc.nH = 1000.\n",
    "gmc.NH = 1.0e23\n",
    "gmc.rad.chi = 10.0\n",
    "gmc.rad.ionRate = 1.0e-16"
   ]
  },
  {
   "cell_type": "code",
   "execution_count": 6,
   "metadata": {},
   "outputs": [],
   "source": [
    "# Define grids in density and velocity gradient\n",
    "lognH = np.linspace(0,10,100)\n",
    "logdVdr = np.linspace(-3,3,75)"
   ]
  },
  {
   "cell_type": "code",
   "execution_count": 7,
   "metadata": {},
   "outputs": [],
   "source": [
    "# generate optically thin(only with RT, not Level population)\n",
    "sp1 = 'CO'\n",
    "sp2 = 'co'\n",
    "# CO abundances and gas temperatures to use\n",
    "x = [1.0e-4]\n",
    "Tgval = [ 10.]\n",
    "labels = ['std']"
   ]
  },
  {
   "cell_type": "code",
   "execution_count": 8,
   "metadata": {},
   "outputs": [
    {
     "name": "stdout",
     "output_type": "stream",
     "text": [
      "Generating co_thin2_lum_std.txt for x = 1.000000e-04, Tg = 10.000000\n"
     ]
    },
    {
     "name": "stderr",
     "output_type": "stream",
     "text": [
      "/Users/yuxuan/Documents/Research_module/despotic/emitter.py:840: FutureWarning: `rcond` parameter will change to the default of machine precision times ``max(M, N)`` where M and N are the input matrix dimensions.\n",
      "To use the future default and silence this warning we advise to pass `rcond=None`, to keep using the old, explicitly pass `rcond=-1`.\n",
      "  self.levPop, res, rank, s = np.linalg.lstsq(m, b)\n"
     ]
    }
   ],
   "source": [
    "# Generate tables for constant temperature cases\n",
    "for i, x_, Tgval_, lab in zip(range(len(x)), x, Tgval, labels):\n",
    "    \n",
    "    # Print status\n",
    "    print(\"Generating co_thin2_lum_{:s}.txt for x = {:e}, Tg = {:f}\"\n",
    "          .format(lab, x_, Tgval_))\n",
    "    \n",
    "    # Set abundance and gas temperature\n",
    "    gmc.addEmitter(sp1, x_)\n",
    "    gmc.Tg = Tgval_\n",
    "    \n",
    "    # Compute luminosity on grid\n",
    "    loglum = []\n",
    "    for lognH_ in lognH:\n",
    "        gmc.nH = 10.**lognH_\n",
    "        loglum1 = []\n",
    "        for logdVdr_ in logdVdr:\n",
    "            gmc.dVdr = 10.**logdVdr_ * 1.0e5 / 3.09e18\n",
    "            l = gmc.lineLum(sp1, escapeProbGeom='LVG', lumOnly=True, \n",
    "                            transition=[np.array([1]), np.array(0)])[0]\n",
    "            l = gmc.lineLum(sp1, escapeProbGeom='LVG', lumOnly=True, \n",
    "                            transition=[np.array([1]), np.array(0)], thin=True, noRecompute=True)[0]\n",
    "            loglum1.append(np.log10(l))\n",
    "        loglum.append(loglum1)\n",
    "    loglum = np.array(loglum)\n",
    "    \n",
    "    # Save outputs\n",
    "    if i == 0:\n",
    "        np.savetxt('%s_n.txt'%(sp2), lognH)\n",
    "        np.savetxt('%s_dvdr.txt'%(sp2), logdVdr)\n",
    "    np.savetxt('CO_thin2/%s_thin2_lum_%s.txt'%(sp2,lab), loglum)"
   ]
  },
  {
   "cell_type": "code",
   "execution_count": null,
   "metadata": {},
   "outputs": [],
   "source": []
  }
 ],
 "metadata": {
  "kernelspec": {
   "display_name": "Python 3",
   "language": "python",
   "name": "python3"
  },
  "language_info": {
   "codemirror_mode": {
    "name": "ipython",
    "version": 3
   },
   "file_extension": ".py",
   "mimetype": "text/x-python",
   "name": "python",
   "nbconvert_exporter": "python",
   "pygments_lexer": "ipython3",
   "version": "3.7.3"
  }
 },
 "nbformat": 4,
 "nbformat_minor": 2
}
